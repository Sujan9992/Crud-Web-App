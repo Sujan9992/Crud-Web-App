{
  "nbformat": 4,
  "nbformat_minor": 0,
  "metadata": {
    "colab": {
      "provenance": [],
      "authorship_tag": "ABX9TyPkxri3FqZ6RxM2SRQyn/oz",
      "include_colab_link": true
    },
    "kernelspec": {
      "name": "python3",
      "display_name": "Python 3"
    },
    "language_info": {
      "name": "python"
    }
  },
  "cells": [
    {
      "cell_type": "markdown",
      "metadata": {
        "id": "view-in-github",
        "colab_type": "text"
      },
      "source": [
        "<a href=\"https://colab.research.google.com/github/Sujan9992/Crud-Web-App/blob/master/perceptron_logical_and_operation.ipynb\" target=\"_parent\"><img src=\"https://colab.research.google.com/assets/colab-badge.svg\" alt=\"Open In Colab\"/></a>"
      ]
    },
    {
      "cell_type": "code",
      "execution_count": null,
      "metadata": {
        "id": "lyASnI_rK-9S"
      },
      "outputs": [],
      "source": [
        "import numpy as np"
      ]
    },
    {
      "cell_type": "code",
      "source": [
        "x = np.array([[0,0], [0,1], [1,0], [1,1]])\n",
        "y = np.array([0, 0, 0, 1])"
      ],
      "metadata": {
        "id": "I53pSDSzLmP6"
      },
      "execution_count": null,
      "outputs": []
    },
    {
      "cell_type": "code",
      "source": [
        "weights = np.random.rand(2)\n",
        "bias = np.random.rand(1)\n",
        "learning_rate = 0.1"
      ],
      "metadata": {
        "id": "hFW_4SmENVj2"
      },
      "execution_count": null,
      "outputs": []
    },
    {
      "cell_type": "code",
      "source": [
        "def step(x):\n",
        "    return 1 if x >= 0.5 else 0"
      ],
      "metadata": {
        "id": "iGLgtXhfO1Eu"
      },
      "execution_count": null,
      "outputs": []
    },
    {
      "cell_type": "code",
      "source": [
        "for epoch in range(20):\n",
        "    for i in range(len(x)):\n",
        "        z = np.dot(x[i], weights) + bias\n",
        "        pred = step(z)\n",
        "        error = y[i] - pred\n",
        "        weights += learning_rate * error * x[i]\n",
        "        bias += learning_rate * error\n",
        "    print(f\"Epoch {epoch+1}: weights={weights}, bias={bias}\")"
      ],
      "metadata": {
        "colab": {
          "base_uri": "https://localhost:8080/"
        },
        "id": "6ruAED2lPHDK",
        "outputId": "01094d82-20f6-431d-e315-7581357f95a7"
      },
      "execution_count": null,
      "outputs": [
        {
          "output_type": "stream",
          "name": "stdout",
          "text": [
            "Epoch 1: weights=[0.45562383 0.68322885], bias=[-0.07525638]\n",
            "Epoch 2: weights=[0.45562383 0.58322885], bias=[-0.17525638]\n",
            "Epoch 3: weights=[0.45562383 0.58322885], bias=[-0.17525638]\n",
            "Epoch 4: weights=[0.45562383 0.58322885], bias=[-0.17525638]\n",
            "Epoch 5: weights=[0.45562383 0.58322885], bias=[-0.17525638]\n",
            "Epoch 6: weights=[0.45562383 0.58322885], bias=[-0.17525638]\n",
            "Epoch 7: weights=[0.45562383 0.58322885], bias=[-0.17525638]\n",
            "Epoch 8: weights=[0.45562383 0.58322885], bias=[-0.17525638]\n",
            "Epoch 9: weights=[0.45562383 0.58322885], bias=[-0.17525638]\n",
            "Epoch 10: weights=[0.45562383 0.58322885], bias=[-0.17525638]\n",
            "Epoch 11: weights=[0.45562383 0.58322885], bias=[-0.17525638]\n",
            "Epoch 12: weights=[0.45562383 0.58322885], bias=[-0.17525638]\n",
            "Epoch 13: weights=[0.45562383 0.58322885], bias=[-0.17525638]\n",
            "Epoch 14: weights=[0.45562383 0.58322885], bias=[-0.17525638]\n",
            "Epoch 15: weights=[0.45562383 0.58322885], bias=[-0.17525638]\n",
            "Epoch 16: weights=[0.45562383 0.58322885], bias=[-0.17525638]\n",
            "Epoch 17: weights=[0.45562383 0.58322885], bias=[-0.17525638]\n",
            "Epoch 18: weights=[0.45562383 0.58322885], bias=[-0.17525638]\n",
            "Epoch 19: weights=[0.45562383 0.58322885], bias=[-0.17525638]\n",
            "Epoch 20: weights=[0.45562383 0.58322885], bias=[-0.17525638]\n"
          ]
        }
      ]
    },
    {
      "cell_type": "code",
      "source": [
        "for i in range(len(x)):\n",
        "    z = np.dot(x[i], weights) + bias\n",
        "    pred = step(z)\n",
        "    print(f\"Input: {x[i]} → Prediction: {pred}\")"
      ],
      "metadata": {
        "colab": {
          "base_uri": "https://localhost:8080/"
        },
        "id": "4e8jyj7bO1In",
        "outputId": "f0a93dea-c9e5-4086-a8e4-8ff157f7dec4"
      },
      "execution_count": null,
      "outputs": [
        {
          "output_type": "stream",
          "name": "stdout",
          "text": [
            "Input: [0 0] → Prediction: 0\n",
            "Input: [0 1] → Prediction: 0\n",
            "Input: [1 0] → Prediction: 0\n",
            "Input: [1 1] → Prediction: 1\n"
          ]
        }
      ]
    }
  ]
}